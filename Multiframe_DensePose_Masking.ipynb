{
  "nbformat": 4,
  "nbformat_minor": 0,
  "metadata": {
    "colab": {
      "name": "Multiframe DensePose Masking.ipynb",
      "version": "0.3.2",
      "provenance": [],
      "collapsed_sections": [],
      "toc_visible": true,
      "include_colab_link": true
    },
    "kernelspec": {
      "name": "python2",
      "display_name": "Python 2"
    },
    "accelerator": "GPU"
  },
  "cells": [
    {
      "cell_type": "markdown",
      "metadata": {
        "id": "view-in-github",
        "colab_type": "text"
      },
      "source": [
        "<a href=\"https://colab.research.google.com/github/stalgiag/MultiframeDenseposeNotebook/blob/master/Multiframe_DensePose_Masking.ipynb\" target=\"_parent\"><img src=\"https://colab.research.google.com/assets/colab-badge.svg\" alt=\"Open In Colab\"/></a>"
      ]
    },
    {
      "metadata": {
        "id": "f3D6Zh2lnZ0-",
        "colab_type": "text"
      },
      "cell_type": "markdown",
      "source": [
        "# Pose Detection with DensePose\n",
        "\n",
        "This notebook uses an open source project [facebookresearch/DensePose](https://github.com/facebookresearch/DensePose) to detect multi person poses on a test image.\n",
        "\n",
        "For other deep-learning Colab notebooks, visit [tugstugi/dl-colab-notebooks](https://github.com/tugstugi/dl-colab-notebooks).\n",
        "\n",
        "\n",
        "## Install DensePose\n",
        "\n",
        "Installing the DensePose seems to be very tricky. For more information, see [http://linkinpark213.com/2018/11/18/densepose-minesweeping/](http://linkinpark213.com/2018/11/18/densepose-minesweeping/).\n",
        "\n",
        "First, we are going to install an Anaconda with some fixed dependencies:"
      ]
    },
    {
      "metadata": {
        "id": "XGG1qV9Ykhvi",
        "colab_type": "code",
        "colab": {}
      },
      "cell_type": "code",
      "source": [
        "import os\n",
        "from os.path import exists, join, basename, splitext\n",
        "\n",
        "# install Anaconda Python 2.7 to control the dependencies\n",
        "# see for more info: \n",
        "if not exists('anaconda2'):\n",
        "  !wget -q https://repo.anaconda.com/archive/Anaconda2-2018.12-Linux-x86_64.sh\n",
        "  !chmod +x Anaconda2-2018.12-Linux-x86_64.sh\n",
        "  !bash ./Anaconda2-2018.12-Linux-x86_64.sh -b -f -p /content/anaconda2\n",
        "  # set PATH environment variable\n",
        "  os.environ['PATH'] = \"/content/anaconda2/bin:\" + os.environ['PATH']\n",
        "  # install PyTorch\n",
        "  !conda install -y mkl-include\n",
        "  !conda install -y pytorch=1.0.1 torchvision cudatoolkit=10.0 -c pytorch\n",
        "  !ln -s /content/anaconda2/lib/python2.7/site-packages/torch/lib/ /content/anaconda2/lib/python2.7/site-packages/\n",
        "  # install GCC 4.9\n",
        "  !conda install -y -c serge-sans-paille gcc_49\n",
        "  !ln -fs /content/anaconda2/lib/libmpfr.so /content/anaconda2/lib/libmpfr.so.4\n",
        "  os.environ['CC'] = '/content/anaconda2/bin/gcc-4.9'\n",
        "  os.environ['CXX'] = '/content/anaconda2/bin/g++-4.9'\n",
        "  # protobuf 3.5\n",
        "  #!apt-get -qq remove -y protobuf-compiler\n",
        "  !conda install -y protobuf=3.5\n",
        "  # pycocotools\n",
        "  !conda install -y -c conda-forge pycocotools\n",
        "  \n",
        "# we need some headers from the pytorch source\n",
        "if not exists('pytorch'):\n",
        "  !git clone -q --depth 1 --recursive -b v1.0.1 https://github.com/pytorch/pytorch"
      ],
      "execution_count": 0,
      "outputs": []
    },
    {
      "metadata": {
        "id": "cHzGjUrgubQV",
        "colab_type": "text"
      },
      "cell_type": "markdown",
      "source": [
        "Check whether the system dependencies are installed correctly:"
      ]
    },
    {
      "metadata": {
        "id": "qksTB5eznIXP",
        "colab_type": "code",
        "colab": {}
      },
      "cell_type": "code",
      "source": [
        "# some sanity checks\n",
        "!conda --version\n",
        "!protoc --version\n",
        "!gcc-4.9 --version"
      ],
      "execution_count": 0,
      "outputs": []
    },
    {
      "metadata": {
        "id": "7v8c9NLQulWJ",
        "colab_type": "text"
      },
      "cell_type": "markdown",
      "source": [
        "Clone the DensePose project and build it:"
      ]
    },
    {
      "metadata": {
        "id": "hBgeKDlpLC2P",
        "colab_type": "code",
        "colab": {}
      },
      "cell_type": "code",
      "source": [
        "import os\n",
        "from os.path import exists, join, basename, splitext\n",
        "\n",
        "git_repo_url = 'https://github.com/facebookresearch/DensePose.git'\n",
        "project_name = splitext(basename(git_repo_url))[0]\n",
        "if not exists(project_name):\n",
        "  # clone project\n",
        "  !git clone -q --depth 1 $git_repo_url\n",
        "  # install dependencies\n",
        "  !cd $project_name && pip install -q -r requirements.txt\n",
        "  # update CMakeLists.txt\n",
        "  cmakelists_txt_content = \"\"\"\n",
        "cmake_minimum_required(VERSION 2.8.12 FATAL_ERROR)\n",
        "set(Caffe2_DIR \"/content/anaconda2/lib/python2.7/site-packages/torch/share/cmake/Caffe2/\")\n",
        "find_package(Caffe2 REQUIRED)\n",
        "\n",
        "include_directories(\"/content/anaconda2/lib/python2.7/site-packages/torch/lib/include\")\n",
        "include_directories(\"/content/anaconda2/include\")\n",
        "include_directories(\"/content/pytorch\")\n",
        "\n",
        "add_library(libprotobuf STATIC IMPORTED)\n",
        "set(PROTOBUF_LIB \"/content/anaconda2/lib/libprotobuf.a\")\n",
        "set_property(TARGET libprotobuf PROPERTY IMPORTED_LOCATION \"${PROTOBUF_LIB}\")\n",
        "\n",
        "if (${CAFFE2_VERSION} VERSION_LESS 0.8.2)\n",
        "  # Pre-0.8.2 caffe2 does not have proper interface libraries set up, so we\n",
        "  # will rely on the old path.\n",
        "  message(WARNING\n",
        "      \"You are using an older version of Caffe2 (version \" ${CAFFE2_VERSION}\n",
        "      \"). Please consider moving to a newer version.\")\n",
        "  include(cmake/legacy/legacymake.cmake)\n",
        "  return()\n",
        "endif()\n",
        "\n",
        "# Add compiler flags.\n",
        "set(CMAKE_C_FLAGS \"${CMAKE_C_FLAGS} -std=c11\")\n",
        "set(CMAKE_CXX_FLAGS \"${CMAKE_CXX_FLAGS} -std=c++11 -O2 -fPIC -Wno-narrowing\")\n",
        "\n",
        "# Print configuration summary.\n",
        "include(cmake/Summary.cmake)\n",
        "detectron_print_config_summary()\n",
        "\n",
        "# Collect custom ops sources.\n",
        "file(GLOB CUSTOM_OPS_CPU_SRCS ${CMAKE_CURRENT_SOURCE_DIR}/detectron/ops/*.cc)\n",
        "file(GLOB CUSTOM_OPS_GPU_SRCS ${CMAKE_CURRENT_SOURCE_DIR}/detectron/ops/*.cu)\n",
        "\n",
        "# Install custom CPU ops lib.\n",
        "add_library(\n",
        "     caffe2_detectron_custom_ops SHARED\n",
        "     ${CUSTOM_OPS_CPU_SRCS})\n",
        "\n",
        "target_link_libraries(caffe2_detectron_custom_ops caffe2_library libprotobuf)\n",
        "install(TARGETS caffe2_detectron_custom_ops DESTINATION lib)\n",
        "\n",
        "# Install custom GPU ops lib, if gpu is present.\n",
        "if (CAFFE2_USE_CUDA OR CAFFE2_FOUND_CUDA)\n",
        "  # Additional -I prefix is required for CMake versions before commit (< 3.7):\n",
        "  # https://github.com/Kitware/CMake/commit/7ded655f7ba82ea72a82d0555449f2df5ef38594\n",
        "  list(APPEND CUDA_INCLUDE_DIRS -I${CAFFE2_INCLUDE_DIRS})\n",
        "  CUDA_ADD_LIBRARY(\n",
        "      caffe2_detectron_custom_ops_gpu SHARED\n",
        "      ${CUSTOM_OPS_CPU_SRCS}\n",
        "      ${CUSTOM_OPS_GPU_SRCS})\n",
        "\n",
        "  target_link_libraries(caffe2_detectron_custom_ops_gpu caffe2_gpu_library libprotobuf)\n",
        "  install(TARGETS caffe2_detectron_custom_ops_gpu DESTINATION lib)\n",
        "endif()\"\"\"\n",
        "  open(join(project_name, 'CMakeLists.txt'), 'w').write(cmakelists_txt_content)\n",
        "  # build\n",
        "  !cd $project_name && make\n",
        "  !cd $project_name && make ops\n",
        "  # download dense pose data\n",
        "  !cd $project_name/DensePoseData && bash get_densepose_uv.sh"
      ],
      "execution_count": 0,
      "outputs": []
    },
    {
      "metadata": {
        "id": "ew7JMoyIutAr",
        "colab_type": "text"
      },
      "cell_type": "markdown",
      "source": [
        "Check whether the DensePose installation was successful:"
      ]
    },
    {
      "metadata": {
        "id": "t5qJ3WKZo6mz",
        "colab_type": "code",
        "colab": {}
      },
      "cell_type": "code",
      "source": [
        "!python2 $project_name/detectron/tests/test_spatial_narrow_as_op.py\n",
        "!python2 $project_name/detectron/tests/test_zero_even_op.py"
      ],
      "execution_count": 0,
      "outputs": []
    },
    {
      "metadata": {
        "id": "nblRdrqTkK1V",
        "colab_type": "code",
        "colab": {}
      },
      "cell_type": "code",
      "source": [
        "!mkdir DensePose/output_images"
      ],
      "execution_count": 0,
      "outputs": []
    },
    {
      "metadata": {
        "id": "CB3PepanyRRQ",
        "colab_type": "text"
      },
      "cell_type": "markdown",
      "source": [
        "## Detect poses on a test image\n",
        "\n",
        "Detect poses on the test image `demo_im.jpg` which is included in the DensePose repo:"
      ]
    },
    {
      "metadata": {
        "id": "_5KDyGrYyMzh",
        "colab_type": "code",
        "colab": {}
      },
      "cell_type": "code",
      "source": [
        "!cd $project_name && python2 tools/infer_simple.py \\\n",
        "    --cfg configs/DensePose_ResNet101_FPN_s1x-e2e.yaml \\\n",
        "    --output-dir DensePoseData/infer_out/ \\\n",
        "    --image-ext jpg \\\n",
        "    --wts https://dl.fbaipublicfiles.com/densepose/DensePose_ResNet101_FPN_s1x-e2e.pkl \\\n",
        "    input_images/paris-riots_0087.png"
      ],
      "execution_count": 0,
      "outputs": []
    },
    {
      "metadata": {
        "id": "qunmcadk3K_K",
        "colab_type": "text"
      },
      "cell_type": "markdown",
      "source": [
        "Visualize the result:"
      ]
    },
    {
      "metadata": {
        "id": "FKESCskkymbs",
        "colab_type": "code",
        "colab": {}
      },
      "cell_type": "code",
      "source": [
        "import cv2\n",
        "import matplotlib.pyplot as plt\n",
        "import numpy as np\n",
        "\n",
        "im  = cv2.imread(join(project_name, 'input_images/paris-riots_0087.png'))\n",
        "IUV = cv2.imread(join(project_name, 'DensePoseData/infer_out/paris-riots_0087_IUV.png'))\n",
        "INDS = cv2.imread(join(project_name, 'DensePoseData/infer_out/paris-riots_0087_INDS.png'),  0)\n",
        "\n",
        "fig = plt.figure(figsize=[20, 20])\n",
        "plt.imshow( im[:,:,::-1] )\n",
        "plt.contour( IUV[:,:,1]/256.,10, linewidths = 2 )\n",
        "plt.contour( IUV[:,:,2]/256.,10, linewidths = 2 )\n",
        "plt.axis('off') ; plt.show()"
      ],
      "execution_count": 0,
      "outputs": []
    },
    {
      "metadata": {
        "id": "GbDo0DTO0OWs",
        "colab_type": "code",
        "colab": {
          "base_uri": "https://localhost:8080/",
          "height": 35
        },
        "outputId": "9dfc2ccc-340c-4df2-a78f-0f606a3402e9"
      },
      "cell_type": "code",
      "source": [
        "!pwd"
      ],
      "execution_count": 28,
      "outputs": [
        {
          "output_type": "stream",
          "text": [
            "/content\n"
          ],
          "name": "stdout"
        }
      ]
    },
    {
      "metadata": {
        "id": "cQeP77AIw1iU",
        "colab_type": "code",
        "colab": {}
      },
      "cell_type": "code",
      "source": [
        "%%shell\n",
        "cd DensePose/\n",
        "\n",
        "for i in {100..200}\n",
        "do\n",
        "    echo $i\n",
        "    echo $(($i + 1))\n",
        "    python2 tools/infer_simple.py \\\n",
        "    --cfg configs/DensePose_ResNet101_FPN_s1x-e2e.yaml \\\n",
        "    --output-dir output_images/ \\\n",
        "    --image-ext png \\\n",
        "    --wts https://dl.fbaipublicfiles.com/densepose/DensePose_ResNet101_FPN_s1x-e2e.pkl \\\n",
        "    input_images/paris-riots_0$i.png\n",
        "done"
      ],
      "execution_count": 0,
      "outputs": []
    },
    {
      "metadata": {
        "id": "elng-IEF3diV",
        "colab_type": "code",
        "colab": {}
      },
      "cell_type": "code",
      "source": [
        "!mkdir DensePose/mask_images"
      ],
      "execution_count": 0,
      "outputs": []
    },
    {
      "metadata": {
        "id": "nJTdUFA03Sdl",
        "colab_type": "code",
        "colab": {}
      },
      "cell_type": "code",
      "source": [
        "#strip all of the black out of inds images\n",
        "import cv2\n",
        "import os\n",
        "\n",
        "# directory = os.fsencode(\"DensePose/mask_images/\")\n",
        "\n",
        "for filename in os.listdir(\"DensePose/output_images/\"):\n",
        "#      filename = os.fsdecode(file)\n",
        "   if filename.endswith(\"IUV.png\"): \n",
        "      demo_img = os.path.join(\"DensePose/output_images/\", filename)\n",
        "      src = cv2.imread(demo_img, 1)\n",
        "      tmp = cv2.cvtColor(src, cv2.COLOR_BGR2GRAY)\n",
        "      _,alpha = cv2.threshold(tmp,0,255,cv2.THRESH_BINARY)\n",
        "      b, g, r = cv2.split(src)\n",
        "      rgba = [b,g,r, alpha]\n",
        "      dst = cv2.merge(rgba,4)\n",
        "      cv2.imwrite(os.path.join(\"DensePose/mask_images/\", filename), dst)\n",
        "      print(\" out = > \" + str(os.path.join(\"DensePose/mask_images/\", filename)))\n",
        "      continue"
      ],
      "execution_count": 0,
      "outputs": []
    },
    {
      "metadata": {
        "id": "WyDfyENN5M9M",
        "colab_type": "code",
        "colab": {}
      },
      "cell_type": "code",
      "source": [
        "# Convert to Grayscale\n",
        "from PIL import Image\n",
        "\n",
        "#strip all of the black out of inds images\n",
        "import cv2\n",
        "import os\n",
        "\n",
        "# directory = os.fsencode(\"DensePose/mask_images/\")\n",
        "\n",
        "for filename in os.listdir(\"DensePose/mask_images/\"):\n",
        "  demo_img = os.path.join(\"DensePose/mask_images/\", filename)\n",
        "  img = Image.open(demo_img).convert('LA')\n",
        "  img.save(os.path.join(\"DensePose/mask_images/\", filename))\n",
        "  print(\" out = > \" + str(os.path.join(\"DensePose/mask_images/\", filename)))\n",
        "  continue"
      ],
      "execution_count": 0,
      "outputs": []
    },
    {
      "metadata": {
        "id": "6xkE-sS-B6Us",
        "colab_type": "code",
        "colab": {}
      },
      "cell_type": "code",
      "source": [
        "!zip DensePose/results.zip DensePose/mask_images/*"
      ],
      "execution_count": 0,
      "outputs": []
    }
  ]
}